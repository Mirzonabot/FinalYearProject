{
 "cells": [
  {
   "cell_type": "code",
   "execution_count": 1,
   "metadata": {},
   "outputs": [],
   "source": [
    "import requests"
   ]
  },
  {
   "cell_type": "code",
   "execution_count": 2,
   "metadata": {},
   "outputs": [],
   "source": [
    "endpoint = \"https://httpbin.org/status/200/\"\n",
    "endpoint = \"https://httpbin.org/anything\"\n",
    "get_response = requests.get(endpoint)\n"
   ]
  },
  {
   "cell_type": "code",
   "execution_count": 3,
   "metadata": {},
   "outputs": [],
   "source": [
    "# get_response.text"
   ]
  },
  {
   "cell_type": "code",
   "execution_count": 4,
   "metadata": {},
   "outputs": [
    {
     "data": {
      "text/plain": [
       "{'args': {},\n",
       " 'data': '',\n",
       " 'files': {},\n",
       " 'form': {},\n",
       " 'headers': {'Accept': '*/*',\n",
       "  'Accept-Encoding': 'gzip, deflate',\n",
       "  'Host': 'httpbin.org',\n",
       "  'User-Agent': 'python-requests/2.25.1',\n",
       "  'X-Amzn-Trace-Id': 'Root=1-63886d5b-15bae75d7ca8d59f1e60b4d1'},\n",
       " 'json': None,\n",
       " 'method': 'GET',\n",
       " 'origin': '109.71.229.10',\n",
       " 'url': 'https://httpbin.org/anything'}"
      ]
     },
     "execution_count": 4,
     "metadata": {},
     "output_type": "execute_result"
    }
   ],
   "source": [
    "\n",
    "get_response.json()"
   ]
  },
  {
   "cell_type": "code",
   "execution_count": 5,
   "metadata": {},
   "outputs": [
    {
     "data": {
      "text/plain": [
       "{'args': {},\n",
       " 'data': '{\"query\": \"hello world\"}',\n",
       " 'files': {},\n",
       " 'form': {},\n",
       " 'headers': {'Accept': '*/*',\n",
       "  'Accept-Encoding': 'gzip, deflate',\n",
       "  'Content-Length': '24',\n",
       "  'Content-Type': 'application/json',\n",
       "  'Host': 'httpbin.org',\n",
       "  'User-Agent': 'python-requests/2.25.1',\n",
       "  'X-Amzn-Trace-Id': 'Root=1-63886d5c-6582e03a6893d8da607f2b75'},\n",
       " 'json': {'query': 'hello world'},\n",
       " 'method': 'GET',\n",
       " 'origin': '212.42.101.46',\n",
       " 'url': 'https://httpbin.org/anything'}"
      ]
     },
     "execution_count": 5,
     "metadata": {},
     "output_type": "execute_result"
    }
   ],
   "source": [
    "get_response = requests.get(endpoint,json={\"query\":\"hello world\"})\n",
    "get_response.json()"
   ]
  },
  {
   "cell_type": "code",
   "execution_count": 6,
   "metadata": {},
   "outputs": [
    {
     "data": {
      "text/plain": [
       "{'args': {},\n",
       " 'data': '',\n",
       " 'files': {},\n",
       " 'form': {'query': 'hello world'},\n",
       " 'headers': {'Accept': '*/*',\n",
       "  'Accept-Encoding': 'gzip, deflate',\n",
       "  'Content-Length': '17',\n",
       "  'Content-Type': 'application/x-www-form-urlencoded',\n",
       "  'Host': 'httpbin.org',\n",
       "  'User-Agent': 'python-requests/2.25.1',\n",
       "  'X-Amzn-Trace-Id': 'Root=1-63886d5d-21e1adc80e7e2de3128826dd'},\n",
       " 'json': None,\n",
       " 'method': 'GET',\n",
       " 'origin': '109.71.229.10',\n",
       " 'url': 'https://httpbin.org/anything'}"
      ]
     },
     "execution_count": 6,
     "metadata": {},
     "output_type": "execute_result"
    }
   ],
   "source": [
    "get_response = requests.get(endpoint,data={\"query\":\"hello world\"})\n",
    "get_response.json()"
   ]
  },
  {
   "cell_type": "code",
   "execution_count": 7,
   "metadata": {},
   "outputs": [
    {
     "data": {
      "text/plain": [
       "200"
      ]
     },
     "execution_count": 7,
     "metadata": {},
     "output_type": "execute_result"
    }
   ],
   "source": [
    "get_response.status_code"
   ]
  },
  {
   "cell_type": "code",
   "execution_count": 8,
   "metadata": {},
   "outputs": [
    {
     "name": "stdout",
     "output_type": "stream",
     "text": [
      "<!DOCTYPE html>\n",
      "<html lang=\"en\">\n",
      "<head>\n",
      "  <meta http-equiv=\"content-type\" content=\"text/html; charset=utf-8\">\n",
      "  <title>Page not found at /</title>\n",
      "  <meta name=\"robots\" content=\"NONE,NOARCHIVE\">\n",
      "  <style type=\"text/css\">\n",
      "    html * { padding:0; margin:0; }\n",
      "    body * { padding:10px 20px; }\n",
      "    body * * { padding:0; }\n",
      "    body { font:small sans-serif; background:#eee; color:#000; }\n",
      "    body>div { border-bottom:1px solid #ddd; }\n",
      "    h1 { font-weight:normal; margin-bottom:.4em; }\n",
      "    h1 span { font-size:60%; color:#666; font-weight:normal; }\n",
      "    table { border:none; border-collapse: collapse; width:100%; }\n",
      "    td, th { vertical-align:top; padding:2px 3px; }\n",
      "    th { width:12em; text-align:right; color:#666; padding-right:.5em; }\n",
      "    #info { background:#f6f6f6; }\n",
      "    #info ol { margin: 0.5em 4em; }\n",
      "    #info ol li { font-family: monospace; }\n",
      "    #summary { background: #ffc; }\n",
      "    #explanation { background:#eee; border-bottom: 0px none; }\n",
      "    pre.exception_value { font-family: sans-serif; color: #575757; font-size: 1.5em; margin: 10px 0 10px 0; }\n",
      "  </style>\n",
      "</head>\n",
      "<body>\n",
      "  <div id=\"summary\">\n",
      "    <h1>Page not found <span>(404)</span></h1>\n",
      "    \n",
      "    <table class=\"meta\">\n",
      "      <tr>\n",
      "        <th>Request Method:</th>\n",
      "        <td>GET</td>\n",
      "      </tr>\n",
      "      <tr>\n",
      "        <th>Request URL:</th>\n",
      "        <td>http://localhost:8000/</td>\n",
      "      </tr>\n",
      "      \n",
      "    </table>\n",
      "  </div>\n",
      "  <div id=\"info\">\n",
      "    \n",
      "      <p>\n",
      "      Using the URLconf defined in <code>cfhome.urls</code>,\n",
      "      Django tried these URL patterns, in this order:\n",
      "      </p>\n",
      "      <ol>\n",
      "        \n",
      "          <li>\n",
      "            \n",
      "                admin/\n",
      "                \n",
      "            \n",
      "          </li>\n",
      "        \n",
      "          <li>\n",
      "            \n",
      "                api/\n",
      "                \n",
      "            \n",
      "          </li>\n",
      "        \n",
      "      </ol>\n",
      "      <p>\n",
      "        \n",
      "          The empty path\n",
      "        \n",
      "        didn’t match any of these.\n",
      "      </p>\n",
      "    \n",
      "  </div>\n",
      "\n",
      "  <div id=\"explanation\">\n",
      "    <p>\n",
      "      You’re seeing this error because you have <code>DEBUG = True</code> in\n",
      "      your Django settings file. Change that to <code>False</code>, and Django\n",
      "      will display a standard 404 page.\n",
      "    </p>\n",
      "  </div>\n",
      "</body>\n",
      "</html>\n",
      "\n",
      "404\n"
     ]
    }
   ],
   "source": [
    "endpoint = \"http://localhost:8000/\"\n",
    "get_response = requests.get(endpoint,data={\"query\":\"hello world\"})\n",
    "print(get_response.text)\n",
    "print(get_response.status_code)"
   ]
  },
  {
   "cell_type": "markdown",
   "metadata": {},
   "source": []
  },
  {
   "cell_type": "code",
   "execution_count": null,
   "metadata": {},
   "outputs": [],
   "source": [
    "import requests\n",
    "endpoint = 'http://127.0.0.1:8000/api/'\n",
    "get_response = requests.get(endpoint,json={\"product_id\":123})\n",
    "print(get_response.headers)\n",
    "print(get_response.json())\n",
    "\n"
   ]
  },
  {
   "cell_type": "code",
   "execution_count": 21,
   "metadata": {},
   "outputs": [
    {
     "name": "stdout",
     "output_type": "stream",
     "text": [
      "{'Date': 'Tue, 06 Dec 2022 18:06:09 GMT', 'Server': 'WSGIServer/0.2 CPython/3.10.6', 'Content-Type': 'application/json', 'Vary': 'Accept, Cookie', 'Allow': 'GET, POST, OPTIONS', 'X-Frame-Options': 'DENY', 'Content-Length': '110', 'X-Content-Type-Options': 'nosniff', 'Referrer-Policy': 'same-origin', 'Cross-Origin-Opener-Policy': 'same-origin'}\n",
      "{'title': 'hello world again', 'content': 'this is amazing', 'price': '0.00', 'sale_price': '0.00', 'discount': '0.00'}\n"
     ]
    }
   ],
   "source": [
    "import requests\n",
    "endpoint = 'http://127.0.0.1:8000/api/home_api_view/'\n",
    "get_response = requests.get(endpoint,json={\"product_id\":123})\n",
    "print(get_response.headers)\n",
    "print(get_response.json())"
   ]
  },
  {
   "cell_type": "code",
   "execution_count": null,
   "metadata": {},
   "outputs": [],
   "source": []
  }
 ],
 "metadata": {
  "kernelspec": {
   "display_name": "Python 3.10.6 64-bit",
   "language": "python",
   "name": "python3"
  },
  "language_info": {
   "codemirror_mode": {
    "name": "ipython",
    "version": 3
   },
   "file_extension": ".py",
   "mimetype": "text/x-python",
   "name": "python",
   "nbconvert_exporter": "python",
   "pygments_lexer": "ipython3",
   "version": "3.10.6"
  },
  "orig_nbformat": 4,
  "vscode": {
   "interpreter": {
    "hash": "916dbcbb3f70747c44a77c7bcd40155683ae19c65e1c03b4aa3499c5328201f1"
   }
  }
 },
 "nbformat": 4,
 "nbformat_minor": 2
}
